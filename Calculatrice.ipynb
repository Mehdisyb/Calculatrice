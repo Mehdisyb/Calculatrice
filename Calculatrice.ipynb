{
  "cells": [
    {
      "cell_type": "code",
      "execution_count": null,
      "metadata": {
        "id": "_uMW5J9dAkVx"
      },
      "outputs": [],
      "source": [
        "# Basic mathematical functions\n",
        "def add(num1, num2):\n",
        "    return num1 + num2\n",
        "\n",
        "def subtract(num1, num2):\n",
        "    return num1 - num2\n",
        "\n",
        "def multiply(num1, num2):\n",
        "    return num1 * num2\n",
        "\n",
        "def divide(num1, num2):\n",
        "    return num1 / num2\n",
        "\n",
        "# Dictionary to store the operations\n",
        "operations = {\n",
        "    '+': add,\n",
        "    '-': subtract,\n",
        "    '*': multiply,\n",
        "    '/': divide\n",
        "}\n",
        "\n",
        "# Calculator function\n",
        "def calculator():\n",
        "    num1 = float(input(\"Enter the first number: \"))\n",
        "\n",
        "    # Print available operation symbols\n",
        "    for symbol in operations.keys():\n",
        "        print(symbol)\n",
        "\n",
        "    should_continue = True\n",
        "    while should_continue:\n",
        "        operation = input(\"Select an operation: \")\n",
        "        num2 = float(input(\"Enter the second number: \"))\n",
        "\n",
        "        calculation_function = operations.get(operation)\n",
        "        if calculation_function:\n",
        "            answer = calculation_function(num1, num2)\n",
        "            print(f\"{num1} {operation} {num2} = {answer}\")\n",
        "            choice = input(\"Do you want to continue with the result? (yes/no): \")\n",
        "            if choice.lower() == 'yes':\n",
        "                num1 = answer\n",
        "            else:\n",
        "                should_continue = False\n",
        "                calculator()\n",
        "        else:\n",
        "            print(\"Invalid operation. Please try again.\")\n",
        "\n",
        "calculator()\n"
      ]
    }
  ],
  "metadata": {
    "colab": {
      "provenance": []
    },
    "kernelspec": {
      "display_name": "Python 3",
      "name": "python3"
    },
    "language_info": {
      "name": "python"
    }
  },
  "nbformat": 4,
  "nbformat_minor": 0
}
